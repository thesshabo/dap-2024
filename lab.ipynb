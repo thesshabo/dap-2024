{
  "cells": [
    {
      "cell_type": "markdown",
      "metadata": {
        "id": "view-in-github",
        "colab_type": "text"
      },
      "source": [
        "<a href=\"https://colab.research.google.com/github/thesshabo/dap-2024/blob/main/lab.ipynb\" target=\"_parent\"><img src=\"https://colab.research.google.com/assets/colab-badge.svg\" alt=\"Open In Colab\"/></a>"
      ]
    },
    {
      "cell_type": "markdown",
      "metadata": {
        "id": "PMjSaZEkHLAj"
      },
      "source": [
        "# Лабораторная работа №2. Основы Python"
      ]
    },
    {
      "cell_type": "markdown",
      "metadata": {
        "id": "BX8CIM6rHLAk"
      },
      "source": [
        "## Задание"
      ]
    },
    {
      "cell_type": "markdown",
      "metadata": {
        "id": "z_rifwNuHLAl"
      },
      "source": [
        "Выполните следующие задания:\n",
        "\n",
        "1. Открыли в файл в Google Colab (используйте собственный форк репозитория).\n",
        "2. Решили задачи.\n",
        "3. Сохранили результат в ваш репозиторий github в директорию ./les02\n",
        "4. Создали pull request в репозиторий https://github.com/chebotarevsa/dap-2024. Название pull request должно иметь формат \"<Номер лабораторной работы>  <Номер группы> <ФИО>\"\n",
        "5. Сдали работу в системе \"Пегас\", в отчет укажите ссылку на pull request"
      ]
    },
    {
      "cell_type": "markdown",
      "metadata": {
        "id": "l52qnuUaHLAl"
      },
      "source": [
        "Задача №1. https://leetcode.com/problems/two-sum/"
      ]
    },
    {
      "cell_type": "code",
      "execution_count": null,
      "metadata": {
        "id": "XONA7D8xHLAl"
      },
      "outputs": [],
      "source": [
        "class Solution(object):\n",
        "    def twoSum(self, nums, target):\n",
        "        for i in range (0, len(nums)):\n",
        "            for j in range (i+1, len(nums)):\n",
        "                if nums[i]+nums[j]==target:\n",
        "                    return [i,j]"
      ]
    },
    {
      "cell_type": "markdown",
      "metadata": {
        "id": "34g-wtGDHLAm"
      },
      "source": [
        "Задача №2. https://leetcode.com/problems/palindrome-number/description/"
      ]
    },
    {
      "cell_type": "code",
      "execution_count": null,
      "metadata": {
        "id": "K6HBq_0ZHLAm"
      },
      "outputs": [],
      "source": [
        "class Solution(object):\n",
        "    def isPalindrome(self, x):\n",
        "        if x < 0:\n",
        "          return False\n",
        "        y=str(x)\n",
        "        rev = ''.join(reversed(y))\n",
        "        if rev == y:\n",
        "            return True\n",
        "        else:\n",
        "            return False\n"
      ]
    },
    {
      "cell_type": "markdown",
      "metadata": {
        "id": "I9L1h1qIHLAm"
      },
      "source": [
        "Задача №3. https://leetcode.com/problems/roman-to-integer/description/"
      ]
    },
    {
      "cell_type": "code",
      "execution_count": null,
      "metadata": {
        "id": "eoAy2wFjHLAm"
      },
      "outputs": [],
      "source": [
        "class Solution(object):\n",
        "    def romanToInt(self, s):\n",
        "        roman_map = {\n",
        "            'I': 1,\n",
        "            'V': 5,\n",
        "            'X': 10,\n",
        "            'L': 50,\n",
        "            'C': 100,\n",
        "            'D': 500,\n",
        "            'M': 1000\n",
        "        }\n",
        "        total = 0\n",
        "        for i in range(len(s) - 1):\n",
        "            if roman_map[s[i]] < roman_map[s[i+1]]:\n",
        "                total -= roman_map[s[i]]\n",
        "            else:\n",
        "                total += roman_map[s[i]]\n",
        "        total += roman_map[s[-1]]\n",
        "        return total"
      ]
    },
    {
      "cell_type": "markdown",
      "metadata": {
        "id": "w2_3Wp-YHLAm"
      },
      "source": [
        "Задача №4. https://leetcode.com/problems/longest-common-prefix/description/"
      ]
    },
    {
      "cell_type": "code",
      "execution_count": null,
      "metadata": {
        "id": "kHviUlYTHLAm"
      },
      "outputs": [],
      "source": [
        "class Solution(object):\n",
        "    def longestCommonPrefix(self, strs):\n",
        "        if not strs:\n",
        "            return \"\"\n",
        "\n",
        "        # Находим самую короткую строку (максимальная длина префикса)\n",
        "        shortest = min(strs, key=len)\n",
        "\n",
        "        for i, char in enumerate(shortest):\n",
        "            for other in strs:\n",
        "                if other[i] != char:\n",
        "                    return shortest[:i]\n",
        "\n",
        "        return shortest\n"
      ]
    },
    {
      "cell_type": "markdown",
      "metadata": {
        "id": "3nRATC-CHLAn"
      },
      "source": [
        "Задача №5. https://leetcode.com/problems/merge-two-sorted-lists/description/"
      ]
    },
    {
      "cell_type": "code",
      "execution_count": null,
      "metadata": {
        "id": "GQBcBkN7HLAn"
      },
      "outputs": [],
      "source": [
        "class Solution(object):\n",
        "    def mergeTwoLists(self, list1, list2):\n",
        "        # Создаем фиктивный начальный узел для упрощения логики\n",
        "        dummy = ListNode(0)\n",
        "        current = dummy\n",
        "\n",
        "        # Пока оба списка не пусты\n",
        "        while list1 and list2:\n",
        "            if list1.val <= list2.val:\n",
        "                current.next = list1\n",
        "                list1 = list1.next\n",
        "            else:\n",
        "                current.next = list2\n",
        "                list2 = list2.next\n",
        "            current = current.next\n",
        "\n",
        "        # Если один из списков не пуст, присоединяем его остаток\n",
        "        if list1:\n",
        "            current.next = list1\n",
        "        else:\n",
        "            current.next = list2\n",
        "\n",
        "        return dummy.next\n",
        "\n"
      ]
    },
    {
      "cell_type": "markdown",
      "metadata": {
        "id": "lh9FFm2MHLAn"
      },
      "source": [
        "Задача №6. https://leetcode.com/problems/longest-substring-without-repeating-characters/description/"
      ]
    },
    {
      "cell_type": "code",
      "execution_count": null,
      "metadata": {
        "id": "sQLzBaEcHLAn"
      },
      "outputs": [],
      "source": [
        "class Solution(object):\n",
        "    def lengthOfLongestSubstring(self, s):\n",
        "        new_str=\"\"\n",
        "        max_length = 0\n",
        "        for i in range(len(s)):\n",
        "            if s[i] in new_str:\n",
        "                index = new_str.index(s[i])\n",
        "                new_str = new_str[index + 1:]\n",
        "\n",
        "            new_str+=s[i]\n",
        "            if len(new_str) > max_length:\n",
        "                max_length = len(new_str)\n",
        "\n",
        "        return max_length"
      ]
    },
    {
      "cell_type": "markdown",
      "metadata": {
        "id": "Q16tZNDBHLAn"
      },
      "source": [
        "## Вопросы\n",
        "\n",
        "1. Что такое динамическая типизация и чем она отличается от статической?\n",
        "2. Чем отличается цикл for в Python от цикла for в С++?\n",
        "3. Для чего предназначены операторы continue и break?\n",
        "4. Как определить функцию в python? Может ли функция возвращать несколько значений?\n",
        "5. Что такое лямбда функции и для чего они предназначены?\n",
        "6. Может ли тело функции содержать определение другой функции?\n",
        "7. Как определить класс в python? Для чего нужна переменная self?\n",
        "8. Как определить приватный метод? Можно ли вызвать приватный метод за пределами класса?\n",
        "9. Как определить статический метод класса? Для чего может понадобиться статический метод?\n",
        "10. Чем staticmethod отличается от classmethod?\n",
        "11. Как определить собственный класс исключений Python? Как выбросить и перехватить исключение?\n",
        "12. Что такое картеж, для чего он используется?\n"
      ]
    }
  ],
  "metadata": {
    "language_info": {
      "name": "python"
    },
    "colab": {
      "provenance": [],
      "include_colab_link": true
    },
    "kernelspec": {
      "name": "python3",
      "display_name": "Python 3"
    }
  },
  "nbformat": 4,
  "nbformat_minor": 0
}