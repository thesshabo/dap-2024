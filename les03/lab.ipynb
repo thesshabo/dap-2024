{
  "cells": [
    {
      "cell_type": "markdown",
      "metadata": {
        "id": "qQvfD-M40xIt"
      },
      "source": [
        "# Лабораторная работа №3. NumPy"
      ]
    },
    {
      "cell_type": "markdown",
      "metadata": {
        "id": "FROy53qL_DzN"
      },
      "source": [
        "## Задание"
      ]
    },
    {
      "cell_type": "markdown",
      "metadata": {
        "id": "Q8FFEA2R08uS"
      },
      "source": [
        "Выполните следующие задания:\n",
        "\n",
        "1. Откройте в файл в Google Colab (используйте собственный форк репозитория).\n",
        "2. Решите задачи.\n",
        "3. Сохраните результат в ваш репозиторий github в директорию ./les03\n",
        "4. Создайте pull request в репозиторий https://github.com/chebotarevsa/dap-2024. Название pull request должно иметь формат \"<Номер лабораторной работы>  <Номер группы> <ФИО>\"\n",
        "5. Сдайте работу в системе \"Пегас\", в отчет укажите ссылку на pull request"
      ]
    },
    {
      "cell_type": "code",
      "execution_count": null,
      "metadata": {
        "colab": {
          "base_uri": "https://localhost:8080/",
          "height": 35
        },
        "id": "3ftbuMN45IlN",
        "outputId": "a202a579-7cba-405d-995b-9387cd4738a1"
      },
      "outputs": [
        {
          "data": {
            "text/plain": [
              "'2.1.0'"
            ]
          },
          "execution_count": 1,
          "metadata": {},
          "output_type": "execute_result"
        }
      ],
      "source": [
        "import numpy as np\n",
        "np.version.version"
      ]
    },
    {
      "cell_type": "markdown",
      "metadata": {
        "id": "6iPL4gTu2ECp"
      },
      "source": [
        "1. Создать массив 10x10 со случайными значениями, найти минимум и максимум (низкая)"
      ]
    },
    {
      "cell_type": "code",
      "execution_count": 2,
      "metadata": {
        "id": "v-AutHvo2T-D",
        "outputId": "9ecc21ce-fbf4-49f7-8021-a296f9d0902c",
        "colab": {
          "base_uri": "https://localhost:8080/"
        }
      },
      "outputs": [
        {
          "output_type": "stream",
          "name": "stdout",
          "text": [
            "Массив 10x10:\n",
            "[[-373 -575  788  496  950 -369 -719 -842 -594  -47]\n",
            " [-443  199   20  399  225  740 -972 -391  416 -212]\n",
            " [ 989 -393   59  203 -491 -168  111 -896 -166 -917]\n",
            " [  58 -356 -860  -26  124  614  868 -172  236 -944]\n",
            " [-386  109  665  836  180 -395  184  394  -56 -538]\n",
            " [ 621  846 -369  913 -915 -859  713  990 -257 -745]\n",
            " [ 830 -727    7  254 -491  278  864  845 -716   60]\n",
            " [ 203 -145 -340 -296 -387   64   38 -292  -56 -476]\n",
            " [-121 -717 -114 -594  801 -168 -283  440  399 -988]\n",
            " [-771  123 -435 -541 -664 -777 -775  455 -994  349]]\n",
            "\n",
            "Минимальное значение:-994\n",
            "Максимальное значение:990\n"
          ]
        }
      ],
      "source": [
        "import numpy as np\n",
        "array = np.random.randint(-1000, 1001, size=(10, 10))\n",
        "\n",
        "min_value = np.min(array)\n",
        "max_value = np.max(array)\n",
        "\n",
        "print(\"Массив 10x10:\")\n",
        "print(array)\n",
        "print(\"\\nМинимальное значение:\" + str(min_value))\n",
        "print(\"Максимальное значение:\" + str(max_value))"
      ]
    },
    {
      "cell_type": "markdown",
      "metadata": {
        "id": "cwxKoGik2Xfd"
      },
      "source": [
        "2. Создать 8x8 матрицу и заполнить её единицами и нулями в шахматном порядке"
      ]
    },
    {
      "cell_type": "code",
      "execution_count": 3,
      "metadata": {
        "id": "zACAjKWC2lBy",
        "outputId": "67fefdc3-83b5-4a49-8056-3d13be2a476b",
        "colab": {
          "base_uri": "https://localhost:8080/"
        }
      },
      "outputs": [
        {
          "output_type": "stream",
          "name": "stdout",
          "text": [
            "Шахматная доска 8x8:\n",
            "[0 1 0 1 0 1 0 1]\n",
            "[1 0 1 0 1 0 1 0]\n",
            "[0 1 0 1 0 1 0 1]\n",
            "[1 0 1 0 1 0 1 0]\n",
            "[0 1 0 1 0 1 0 1]\n",
            "[1 0 1 0 1 0 1 0]\n",
            "[0 1 0 1 0 1 0 1]\n",
            "[1 0 1 0 1 0 1 0]\n"
          ]
        }
      ],
      "source": [
        "import numpy as np\n",
        "chessboard = np.zeros((8, 8), dtype=int)\n",
        "for i in range(8):\n",
        "    for j in range(8):\n",
        "        if (i + j) % 2 != 0:\n",
        "            chessboard[i,j]=1\n",
        "print(\"Шахматная доска 8x8:\")\n",
        "for row in chessboard:\n",
        "    print(row)"
      ]
    },
    {
      "cell_type": "markdown",
      "metadata": {
        "id": "YvNFm7Io2tSA"
      },
      "source": [
        "3. Дан массив из 11 элементов, поменять знак у элементов, значения которых между 3 и 8"
      ]
    },
    {
      "cell_type": "code",
      "execution_count": 4,
      "metadata": {
        "id": "cczoe3OY27fA",
        "outputId": "5c90825c-1295-4d29-b28e-c946d516e08d",
        "colab": {
          "base_uri": "https://localhost:8080/"
        }
      },
      "outputs": [
        {
          "output_type": "stream",
          "name": "stdout",
          "text": [
            "[ 0  1  2  3 -4 -5 -6 -7  8  9 10]\n",
            "[ 0  1  2  3 -4 -5 -6 -7  8  9 10]\n"
          ]
        }
      ],
      "source": [
        "z = np.arange(11)\n",
        "for i in range(len(z)):\n",
        "  if 3< z[i]< 8:\n",
        "    z[i]*=-1\n",
        "print(z)\n",
        "import numpy as np\n",
        "z = np.arange(11)\n",
        "z[(z > 3) & (z < 8)] *= -1\n",
        "print(z)"
      ]
    },
    {
      "cell_type": "markdown",
      "metadata": {
        "id": "tInYHRPf2-jQ"
      },
      "source": [
        "4. Найти среднее заначение строки матрицы и вычесть его из каждого елемента строки"
      ]
    },
    {
      "cell_type": "code",
      "execution_count": 5,
      "metadata": {
        "id": "Zbv_WG9w3km1",
        "outputId": "eece9eb4-049e-41ec-a5f0-9a051babb254",
        "colab": {
          "base_uri": "https://localhost:8080/"
        }
      },
      "outputs": [
        {
          "output_type": "stream",
          "name": "stdout",
          "text": [
            "Исходная матрица:\n",
            "[[0.77025035 0.44999993 0.4008107  0.93315541 0.75194956 0.02520635\n",
            "  0.0078903  0.65009486 0.64976678 0.26948694]\n",
            " [0.72068139 0.66508377 0.39139795 0.2687179  0.03614594 0.09360839\n",
            "  0.1202585  0.88183273 0.65695707 0.24432588]\n",
            " [0.52257008 0.82516771 0.77200325 0.0144515  0.65951132 0.52463078\n",
            "  0.55069081 0.91185973 0.6150905  0.32667094]\n",
            " [0.60585876 0.08349701 0.22205075 0.59510001 0.25416861 0.36259527\n",
            "  0.85675565 0.56906855 0.32384143 0.56166689]\n",
            " [0.95463994 0.82364268 0.71382506 0.60776428 0.28416831 0.12512442\n",
            "  0.17710566 0.99985004 0.4546282  0.30093514]]\n",
            "\n",
            "Итоговая матрица:\n",
            "[[ 0.27938923 -0.04086119 -0.09005042  0.44229429  0.26108844 -0.46565477\n",
            "  -0.48297082  0.15923374  0.15890567 -0.22137417]\n",
            " [ 0.31278043  0.25718282 -0.016503   -0.13918306 -0.37175501 -0.31429256\n",
            "  -0.28764245  0.47393178  0.24905612 -0.16357507]\n",
            " [-0.04969459  0.25290305  0.19973858 -0.55781316  0.08724666 -0.04763388\n",
            "  -0.02157385  0.33959507  0.04282584 -0.24559372]\n",
            " [ 0.16239847 -0.35996329 -0.22140955  0.15163972 -0.18929168 -0.08086502\n",
            "   0.41329536  0.12560826 -0.11961886  0.11820659]\n",
            " [ 0.41047157  0.27947431  0.16965669  0.06359591 -0.26000006 -0.41904396\n",
            "  -0.36706272  0.45568167 -0.08954018 -0.24323323]]\n"
          ]
        }
      ],
      "source": [
        "import numpy as np\n",
        "z = np.random.rand(5, 10)\n",
        "z_centered = z - z.mean(axis=1, keepdims=True)\n",
        "\n",
        "print(\"Исходная матрица:\")\n",
        "print(z)\n",
        "print(\"\\nИтоговая матрица:\")\n",
        "print(z_centered)"
      ]
    },
    {
      "cell_type": "markdown",
      "metadata": {
        "id": "OStor4mW3lpJ"
      },
      "source": [
        "5. Поменяйте 1 и 2 строки матрицы"
      ]
    },
    {
      "cell_type": "code",
      "execution_count": 6,
      "metadata": {
        "id": "5vfeHqyF3qKd",
        "outputId": "62fe07b7-037d-4227-9e89-5ecfb3210894",
        "colab": {
          "base_uri": "https://localhost:8080/"
        }
      },
      "outputs": [
        {
          "output_type": "stream",
          "name": "stdout",
          "text": [
            "Исходная матрица:\n",
            "[[ 0  1  2  3  4]\n",
            " [ 5  6  7  8  9]\n",
            " [10 11 12 13 14]\n",
            " [15 16 17 18 19]\n",
            " [20 21 22 23 24]]\n",
            "Матрица с переставленными строками:\n",
            "[[ 5  6  7  8  9]\n",
            " [ 0  1  2  3  4]\n",
            " [10 11 12 13 14]\n",
            " [15 16 17 18 19]\n",
            " [20 21 22 23 24]]\n"
          ]
        }
      ],
      "source": [
        "import numpy as np\n",
        "z = np.arange(25).reshape(5,5)\n",
        "z_swapped = z.copy()\n",
        "z_swapped[0] = z[1]\n",
        "z_swapped[1] = z[0]\n",
        "print(\"Исходная матрица:\")\n",
        "print(z)\n",
        "print(\"Матрица с переставленными строками:\")\n",
        "print(z_swapped)"
      ]
    },
    {
      "cell_type": "markdown",
      "metadata": {
        "id": "IPQ9xIIk3qml"
      },
      "source": [
        "6. Дан массив 10x2 подеставлющий собой точки в декартовой системе координат, преобразовать в полярную"
      ]
    },
    {
      "cell_type": "code",
      "execution_count": 7,
      "metadata": {
        "id": "zGHBaX8b30Uv",
        "outputId": "b27af16c-1e2e-4c75-9a06-78e9c2a30102",
        "colab": {
          "base_uri": "https://localhost:8080/"
        }
      },
      "outputs": [
        {
          "output_type": "stream",
          "name": "stdout",
          "text": [
            "Декартовы координаты:\n",
            "[[0.10464682 0.49905208]\n",
            " [0.90694244 0.27004932]\n",
            " [0.67359854 0.15129608]\n",
            " [0.12743229 0.59428668]\n",
            " [0.31253867 0.35661922]\n",
            " [0.31898185 0.05737621]\n",
            " [0.43537793 0.80711865]\n",
            " [0.89073019 0.68334803]\n",
            " [0.30278241 0.21590103]\n",
            " [0.02889916 0.08371203]]\n",
            "\n",
            "Полярные координаты (радиус, угол в радианах):\n",
            "[[0.50990581 1.36409993]\n",
            " [0.94629341 0.28939859]\n",
            " [0.69038069 0.22094195]\n",
            " [0.60779573 1.35956601]\n",
            " [0.47419161 0.85117779]\n",
            " [0.32410099 0.17796989]\n",
            " [0.91705749 1.07611032]\n",
            " [1.1226597  0.65440428]\n",
            " [0.37187423 0.61943521]\n",
            " [0.08855995 1.23838521]]\n"
          ]
        }
      ],
      "source": [
        "import numpy as np\n",
        "z = np.random.random((10, 2))\n",
        "x = z[:, 0]\n",
        "y = z[:, 1]\n",
        "r = np.sqrt(x**2 + y**2)\n",
        "phi = np.arctan2(y, x)\n",
        "polar_coords = np.column_stack((r, phi))\n",
        "print(\"Декартовы координаты:\")\n",
        "print(z)\n",
        "print(\"\\nПолярные координаты (радиус, угол в радианах):\")\n",
        "print(polar_coords)"
      ]
    },
    {
      "cell_type": "markdown",
      "metadata": {
        "id": "10gbuTgE4AOH"
      },
      "source": [
        "7. Заменить максимальный элемент массива на ноль"
      ]
    },
    {
      "cell_type": "code",
      "execution_count": 8,
      "metadata": {
        "id": "gqwuO2T_5Aqd",
        "outputId": "dbe34f91-3840-45d9-b049-a2ee3b26945e",
        "colab": {
          "base_uri": "https://localhost:8080/"
        }
      },
      "outputs": [
        {
          "output_type": "stream",
          "name": "stdout",
          "text": [
            "Исходный массив:\n",
            "[0.39813128 0.92096185 0.69580243 0.09580588 0.30290065 0.14142707\n",
            " 0.14392248 0.56702028 0.71970688 0.33808718]\n",
            "Массив после замены максимального элемента на 0:\n",
            "[0.39813128 0.         0.69580243 0.09580588 0.30290065 0.14142707\n",
            " 0.14392248 0.56702028 0.71970688 0.33808718]\n"
          ]
        }
      ],
      "source": [
        "import numpy as np\n",
        "\n",
        "z = np.random.random(10)\n",
        "print(\"Исходный массив:\")\n",
        "print(z)\n",
        "max_index = np.argmax(z)\n",
        "z[max_index] = 0\n",
        "\n",
        "print(\"Массив после замены максимального элемента на 0:\")\n",
        "print(z)"
      ]
    },
    {
      "cell_type": "markdown",
      "metadata": {
        "id": "88m_eWXM6nZY"
      },
      "source": [
        "8. Дан массив, добавить 1 к каждому элементу с индексом, заданным в другом массиве. Добавление производиться только 1 раз"
      ]
    },
    {
      "cell_type": "code",
      "execution_count": 9,
      "metadata": {
        "id": "-5yj9k126pfh",
        "outputId": "744b056f-302f-41f9-e6e3-17ecbf60124c",
        "colab": {
          "base_uri": "https://localhost:8080/"
        }
      },
      "outputs": [
        {
          "output_type": "stream",
          "name": "stdout",
          "text": [
            "Первый массив: [1. 1. 1. 1. 1. 1. 1. 1. 1. 1.]\n",
            "Массив индексов i: [0 4 7 9 3 4 3 0 5 4 3 4 3 7 8 4 4 2 3 0]\n",
            "Массив без повторений: [0 2 3 4 5 7 8 9]\n",
            "Результат:\n",
            "[2. 1. 2. 2. 2. 2. 1. 2. 2. 2.]\n"
          ]
        }
      ],
      "source": [
        "import numpy as np\n",
        "z = np.ones(10)\n",
        "print(\"Первый массив:\", z)\n",
        "i = np.random.randint(0, len(z), 20)\n",
        "unique_indices = np.unique(i)\n",
        "z[unique_indices] += 1\n",
        "print(\"Массив индексов i:\", i)\n",
        "print(\"Массив без повторений:\", unique_indices)\n",
        "print(\"Результат:\")\n",
        "print(z)"
      ]
    },
    {
      "cell_type": "markdown",
      "metadata": {
        "id": "0HByAVK77JCG"
      },
      "source": [
        "9. Дан вектор [1, 2, 3, 4, 5], построить новый вектор с тремя нулями между каждым значением"
      ]
    },
    {
      "cell_type": "code",
      "execution_count": 10,
      "metadata": {
        "id": "2AiZt-J47dqq",
        "outputId": "1f46f939-b82e-43d0-b8cf-c0a922bac939",
        "colab": {
          "base_uri": "https://localhost:8080/"
        }
      },
      "outputs": [
        {
          "output_type": "stream",
          "name": "stdout",
          "text": [
            "[1 0 0 0 2 0 0 0 3 0 0 0 4 0 0 0 5]\n"
          ]
        }
      ],
      "source": [
        "import numpy as np\n",
        "z = np.array([1, 2, 3, 4, 5])\n",
        "new_length = len(z) + (len(z) - 1) * 3\n",
        "result = np.zeros(new_length, dtype=z.dtype)\n",
        "result[::4] = z\n",
        "print(result)"
      ]
    },
    {
      "cell_type": "markdown",
      "metadata": {
        "id": "i0uK-dO08AKP"
      },
      "source": [
        "10. Найти ближайшее к заданному значению число в заданном массиве"
      ]
    },
    {
      "cell_type": "code",
      "execution_count": 11,
      "metadata": {
        "id": "sE0DlZO_-4Cb",
        "outputId": "b8a4d555-670b-475e-9975-bd69d2be126b",
        "colab": {
          "base_uri": "https://localhost:8080/"
        }
      },
      "outputs": [
        {
          "output_type": "stream",
          "name": "stdout",
          "text": [
            "Случайное число v: 64.77166156197902\n",
            "Ближайшее число в массиве z: 65\n"
          ]
        }
      ],
      "source": [
        "import numpy as np\n",
        "z = np.arange(100)  # Массив чисел от 0 до 99\n",
        "v = np.random.uniform(0, 100)  # Случайное число от 0 до 100\n",
        "idx = (np.abs(z - v)).argmin()\n",
        "nearest_value = z[idx]\n",
        "print(f\"Случайное число v: {v}\")\n",
        "print(f\"Ближайшее число в массиве z: {nearest_value}\")"
      ]
    },
    {
      "cell_type": "markdown",
      "metadata": {
        "id": "0zUpsgh8uCfQ"
      },
      "source": [
        "## Вопросы\n",
        "\n",
        "\n"
      ]
    },
    {
      "cell_type": "markdown",
      "metadata": {
        "id": "RQEMkoq5vc3k"
      },
      "source": [
        "**1**. Какой тип (dtype) будут иметь элементы массива?\n",
        "``` python\n",
        "np.array([1, 4, 2, 5, 3])\n",
        "np.array([1., 4, 2, 5, 3])\n",
        "np.array([1, 4, 2, 5, 3], dtype='float128')\n",
        "np.array([1., 4, 2, 5, 3], dtype='complex128')\n",
        "np.array([1, 4, 2, 5, 3], dtype ='float64')\n",
        "np.array([1, 4, 2, 5, 3], dtype =int64)\n",
        "np.array([1, 4, 2, 5, 3], dtype='bool')\n",
        "np.array([1, 4, 2, 5, 3], dtype='str')\n",
        "np.array([1, 4, 2, 5, '3'])\n",
        "np.array([1, -4, 2, 0, 1j])\n",
        "```"
      ]
    },
    {
      "cell_type": "markdown",
      "metadata": {
        "id": "SlJfe4Bgvd16"
      },
      "source": [
        "**2**. Что будет выведено в консоль и почему?\n",
        "``` python\n",
        "np.array([1, 4, 2, 5, 3], dtype='str')[1] + '1'\n",
        "np.array([1, -4, 2, 0, 3], dtype='bool')[3] or np.array([1, -4, 2, 0, 3])[1]\n",
        "np.array([1, -4, 2, 0, 3], dtype='bool')[3] and np.array([1, -4, 2, 0, 3])[1]\n",
        "np.array([1, -4, 2, 0, True], dtype='int64')[-1]\n",
        "np.array([1, -4, 2, 0, 1j], dtype='int64')[1]\n",
        "np.array([1, -4, 2, 0, 1j], dtype='str')[-1]\n",
        "np.array([1, 4, 2, 5, '3'])[-1] * 3\n",
        "```"
      ]
    },
    {
      "cell_type": "markdown",
      "metadata": {
        "id": "X50PESx7xVAc"
      },
      "source": [
        "**3**. Каков результат операции?\n",
        "\n",
        "``` python\n",
        "np.ones((3, 5), dtype=float)\n",
        "np.full((3, 5), 3.14)\n",
        "np.linspace(0, 1, 5)\n",
        "np.diag((1,3,5))\n",
        "np.smile((1,3,5))\n",
        "np.random.random((3, 3))\n",
        "np.eye(3)\n",
        "np.empty(3)\n",
        "```\n",
        "\n"
      ]
    },
    {
      "cell_type": "markdown",
      "metadata": {
        "id": "D6Bt-8cfAWrA"
      },
      "source": [
        "**4**. Дан двумерный массив X, что будет выведено в консоль?\n",
        "\n",
        "``` python\n",
        "X = np.array([[3, 5, 2, 4],\n",
        "      [7, 6, 8, 8],\n",
        "      [1, 6, 7, 7]])\n",
        "```\n",
        "\n",
        "``` python\n",
        "X[0,0]\n",
        "X[-1,-1]\n",
        "X[0:1,-1]\n",
        "X[0:2,-1]\n",
        "X[0:2,0:2]\n",
        "X[1,1:3]\n",
        "X[1,:]\n",
        "X[1,:]\n",
        "X[:,:]\n",
        "X[:]\n",
        "X[::2,::2]\n",
        "X[0:3:2,0:3:2]\n",
        "X[::-1,::-1]\n",
        "```"
      ]
    },
    {
      "cell_type": "markdown",
      "metadata": {
        "id": "OFNkiLtR_DzS"
      },
      "source": [
        "**5**. Дан двумерный массив grid, в чем различее между операциями?\n",
        "\n",
        "\n",
        "``` python\n",
        "grid = np.arange(16).reshape((4, 4))\n",
        "```\n",
        "\n",
        "``` python\n",
        "np.split(grid, [2])\n",
        "np.split(grid, [2], axis=1)\n",
        "```\n"
      ]
    },
    {
      "cell_type": "markdown",
      "metadata": {
        "id": "HuFvMLgH_DzS"
      },
      "source": [
        "**6**. В чем различие между операциями?\n",
        "\n",
        "``` python\n",
        "    [1, 2, 3] + [3, 2, 1]\n",
        "    np.array([1, 2, 3]) + np.array([3, 2, 1])\n",
        "```"
      ]
    },
    {
      "cell_type": "markdown",
      "metadata": {
        "id": "jW01wJUp_DzS"
      },
      "source": [
        "**7**. Как в CodeLab измерить время выполнения кода?"
      ]
    },
    {
      "cell_type": "markdown",
      "metadata": {
        "id": "1Supy4Ha_DzT"
      },
      "source": [
        "**8**. Дан массив X, каковы результаты операций?\n",
        "\n",
        "```python\n",
        "X = np.array([[3, 5, 2, 4],\n",
        "      [7, 6, 8, 8],\n",
        "      [1, 6, 7, 7]])\n",
        "\n",
        "np.sum(M)\n",
        "np.sum(M, axis=1)\n",
        "np.sum(M, axis=0)\n",
        "np.sum(M, axis=2)\n",
        "np.sum(M, 1)\n",
        "sum(M)\n",
        "sum(M,1)\n",
        "```"
      ]
    },
    {
      "cell_type": "markdown",
      "metadata": {
        "id": "Z1isKkLV_DzT"
      },
      "source": [
        "**9**. Дан массив X, что будет выведено в консоль?\n",
        "\n",
        "```python\n",
        "X = np.array([1,2,3,4])\n",
        "\n",
        "X > 3\n",
        "X < 3\n",
        "X[X < 3]\n",
        "X[X > 3]\n",
        "X[X != 3]\n",
        "```"
      ]
    },
    {
      "cell_type": "markdown",
      "metadata": {
        "id": "GCYagzri_DzT"
      },
      "source": [
        "**10**.  В чем преимущество массивов NumPy по сравнению с обычными списками.  Чем обусловлено это преимущество?"
      ]
    }
  ],
  "metadata": {
    "colab": {
      "provenance": []
    },
    "kernelspec": {
      "display_name": "Python 3",
      "name": "python3"
    },
    "language_info": {
      "codemirror_mode": {
        "name": "ipython",
        "version": 3
      },
      "file_extension": ".py",
      "mimetype": "text/x-python",
      "name": "python",
      "nbconvert_exporter": "python",
      "pygments_lexer": "ipython3",
      "version": "3.12.2"
    }
  },
  "nbformat": 4,
  "nbformat_minor": 0
}