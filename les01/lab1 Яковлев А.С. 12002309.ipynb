{
  "cells": [
    {
      "cell_type": "markdown",
      "metadata": {
        "id": "s0GUGCjok8_Q"
      },
      "source": [
        "# Лабораторная работа №1. Подготовка среды для анализа данных"
      ]
    },
    {
      "cell_type": "markdown",
      "source": [],
      "metadata": {
        "id": "W_xvoLKplJGt"
      }
    },
    {
      "cell_type": "markdown",
      "metadata": {
        "id": "qYeNmLQ-k8_R"
      },
      "source": [
        "## Задание"
      ]
    },
    {
      "cell_type": "markdown",
      "metadata": {
        "id": "KhEFpfCLk8_R"
      },
      "source": [
        "\n",
        "1. Создал учетную запись в сервисе GitHub\n",
        "2. Выполнил форк репозитория https://github.com/chebotarevsa/dap-2024\n",
        "3. Создайл учетную запись в [Google Colab](https://colab.research.google.com)\n",
        "4. Настроил интеграцию Google Colab и GitHub\n",
        "5. Создал в Google Colab отчет о выполненой работе в виде файла rep.ipynb. Использовал Markdown разметку (заголовки, списки, форматированный текст, ссылки)\n",
        "6. Сохранил отчет в ваш репозиторий github в директории ./les01\n",
        "7. Создал pull request в репозиторий https://github.com/chebotarevsa/dap-2024. Название pull request должно иметь формат \"<Номер лабораторной работы>  <Номер группы> <ФИО>\"\n",
        "8. Сдал работу в системе \"Пегас\", в отчет указал ссылку на pull request\n"
      ]
    },
    {
      "cell_type": "markdown",
      "metadata": {
        "id": "Ax9em3Fjk8_S"
      },
      "source": [
        "## Вопросы"
      ]
    },
    {
      "cell_type": "markdown",
      "metadata": {
        "id": "1nxZXKkOk8_S"
      },
      "source": [
        "\n",
        "1. Типы ячеек в Jupyter Notebook.\n",
        "2. Как с помощью Markdown сформировать иерархический список?\n",
        "3. Как с помощью Markdown оформить цитату?\n",
        "4. Как в текстовую ячейку вставить отформатированный блок кода?\n",
        "5. Сколько уровней заголовка существует в  Markdown?\n",
        "6. Шаги процесса анализа данных, рассказать подробно про один из шагов (на выбор преподавателя).\n",
        "7. Типы данных, рассказать подробно про один из типов данных (на выбор преподавателя).\n",
        "8. Что такое Jupyter Notebook, для чего используется?\n",
        "9. Почему python популярен для анализа данных?\n",
        "10. Обязательно ли использовать Jupyter Notebook для анализа данных?"
      ]
    }
  ],
  "metadata": {
    "language_info": {
      "name": "python"
    },
    "colab": {
      "provenance": []
    },
    "kernelspec": {
      "name": "python3",
      "display_name": "Python 3"
    }
  },
  "nbformat": 4,
  "nbformat_minor": 0
}